{
 "cells": [
  {
   "cell_type": "markdown",
   "id": "b1988308",
   "metadata": {},
   "source": [
    "# 05_pandas"
   ]
  },
  {
   "cell_type": "markdown",
   "id": "417eebe0",
   "metadata": {},
   "source": [
    "# 1. Create a Pandas DataFrame"
   ]
  },
  {
   "cell_type": "code",
   "execution_count": 3,
   "id": "fa87237a",
   "metadata": {},
   "outputs": [
    {
     "name": "stderr",
     "output_type": "stream",
     "text": [
      "'wget' n'est pas reconnu en tant que commande interne\n",
      "ou externe, un programme ex‚cutable ou un fichier de commandes.\n"
     ]
    }
   ],
   "source": [
    "!wget https://www.dropbox.com/s/xvjzaxzz3ysphme/data_000637.txt -P ./data/"
   ]
  },
  {
   "cell_type": "code",
   "execution_count": null,
   "id": "caf03d84",
   "metadata": {},
   "outputs": [],
   "source": [
    "import pandas as pd\n",
    "import numpy as np\n",
    "file = \"data_000637.txt\"\n",
    "N = 100000   # Since we have 1310k rows in our dataframe I chose to get 100k\n",
    "df = pd.read_csv(file, nrows=N)   # Getting our dataframe\n",
    "print(df) # Printing the dataframe"
   ]
  },
  {
   "cell_type": "markdown",
   "id": "f2d3dd77",
   "metadata": {},
   "source": [
    "# 2. Estimate the number of BX in a ORBIT"
   ]
  },
  {
   "cell_type": "code",
   "execution_count": null,
   "id": "9b684efe",
   "metadata": {},
   "outputs": [],
   "source": [
    "BX_max = df[df['BX_COUNTER'] == df['BX_COUNTER'].max()] # Bx_max is a small dataframe containing the rows of the original dataframe where BX_COUNTER is at its maximum\n",
    "print(BX_max)\n",
    "# Calculate the difference in ORBIT_CNT between consecutive maximum BX_COUNTER values\n",
    "orbit_diff = BX_max['ORBIT_CNT'].diff()\n",
    "print(orbit_diff)\n",
    "est_bx_orbit = orbit_diff.mode()\n",
    "print(\"Estimated number of BX in one complete ORBIT:\", est_bx_orbit)"
   ]
  },
  {
   "cell_type": "markdown",
   "id": "5d4f857f",
   "metadata": {},
   "source": [
    "# 3. Create a new column with the absolute time in ns"
   ]
  },
  {
   "cell_type": "code",
   "execution_count": null,
   "id": "fb2a28df",
   "metadata": {},
   "outputs": [],
   "source": [
    "# df['absolute_time'] = df['ORBIT_CNT'] * 1e9 * 3600 * 24 + df['BX_COUNTER'] * 1e9 + df['TDC_MEAS']\n",
    "# df['absolute_time'] = pd.to_datetime(df['absolute_time'], unit='ns', errors='coerce')\n",
    "# start_time = df['absolute_time'].min()\n",
    "# df['absolute_time'] = (df['absolute_time'] - start_time).dt.total_seconds() * 1e9\n",
    "# df['absolute_time'] = pd.to_datetime(df['absolute_time'], unit='ns')\n",
    "df['Absolute_Time_ns'] = ((df['ORBIT_CNT'] * df['BX_COUNTER'] + df['TDC_MEAS']) * 25 / 30 * 1e9)\n",
    "offset = df['Absolute_Time_ns'].iloc[0]\n",
    "df['Absolute_Time_ns']= df['Absolute_Time_ns']- offset\n",
    "df['Absolute_Time'] = pd.to_datetime(df['Absolute_Time_ns'], unit='ns', errors='coerce')\n",
    "print(df)"
   ]
  },
  {
   "cell_type": "markdown",
   "id": "4d69c2a0",
   "metadata": {},
   "source": [
    "# 4. Find out the duration of the data"
   ]
  },
  {
   "cell_type": "code",
   "execution_count": 4,
   "id": "cbd0709d",
   "metadata": {},
   "outputs": [
    {
     "ename": "NameError",
     "evalue": "name 'df' is not defined",
     "output_type": "error",
     "traceback": [
      "\u001b[1;31m---------------------------------------------------------------------------\u001b[0m",
      "\u001b[1;31mNameError\u001b[0m                                 Traceback (most recent call last)",
      "\u001b[1;32m~\\AppData\\Local\\Temp/ipykernel_6628/1360878528.py\u001b[0m in \u001b[0;36m<module>\u001b[1;34m\u001b[0m\n\u001b[0;32m      1\u001b[0m \u001b[1;31m# Finding the start and end time of the new column\u001b[0m\u001b[1;33m\u001b[0m\u001b[1;33m\u001b[0m\u001b[1;33m\u001b[0m\u001b[0m\n\u001b[1;32m----> 2\u001b[1;33m \u001b[0mstart_time\u001b[0m \u001b[1;33m=\u001b[0m \u001b[0mdf\u001b[0m\u001b[1;33m[\u001b[0m\u001b[1;34m'Absolute_Time'\u001b[0m\u001b[1;33m]\u001b[0m\u001b[1;33m.\u001b[0m\u001b[0mmin\u001b[0m\u001b[1;33m(\u001b[0m\u001b[1;33m)\u001b[0m\u001b[1;33m.\u001b[0m\u001b[0mtimestamp\u001b[0m\u001b[1;33m(\u001b[0m\u001b[1;33m)\u001b[0m\u001b[1;33m\u001b[0m\u001b[1;33m\u001b[0m\u001b[0m\n\u001b[0m\u001b[0;32m      3\u001b[0m \u001b[0mend_time\u001b[0m \u001b[1;33m=\u001b[0m \u001b[0mdf\u001b[0m\u001b[1;33m[\u001b[0m\u001b[1;34m'Absolute_Time'\u001b[0m\u001b[1;33m]\u001b[0m\u001b[1;33m.\u001b[0m\u001b[0mmax\u001b[0m\u001b[1;33m(\u001b[0m\u001b[1;33m)\u001b[0m\u001b[1;33m.\u001b[0m\u001b[0mtimestamp\u001b[0m\u001b[1;33m(\u001b[0m\u001b[1;33m)\u001b[0m\u001b[1;33m\u001b[0m\u001b[1;33m\u001b[0m\u001b[0m\n\u001b[0;32m      4\u001b[0m \u001b[0mduration\u001b[0m \u001b[1;33m=\u001b[0m \u001b[0mend_time\u001b[0m \u001b[1;33m-\u001b[0m \u001b[0mstart_time\u001b[0m \u001b[1;31m# Calculating the duration\u001b[0m\u001b[1;33m\u001b[0m\u001b[1;33m\u001b[0m\u001b[0m\n\u001b[0;32m      5\u001b[0m \u001b[1;31m# print(int(duration))\u001b[0m\u001b[1;33m\u001b[0m\u001b[1;33m\u001b[0m\u001b[1;33m\u001b[0m\u001b[0m\n",
      "\u001b[1;31mNameError\u001b[0m: name 'df' is not defined"
     ]
    }
   ],
   "source": [
    "# Finding the start and end time of the new column\n",
    "start_time = df['Absolute_Time'].min().timestamp()\n",
    "end_time = df['Absolute_Time'].max().timestamp()\n",
    "duration = end_time - start_time # Calculating the duration\n",
    "# print(int(duration))\n",
    "hours, remainder = divmod(int(duration), 3600)\n",
    "minutes, seconds = divmod(remainder, 60)\n",
    "print(f\"Duration: {hours} hours, {minutes} minutes, {seconds} seconds\")"
   ]
  },
  {
   "cell_type": "markdown",
   "id": "9281c23a",
   "metadata": {},
   "source": [
    "# 5. Use the .groupby() method to find out the noisy channels "
   ]
  },
  {
   "cell_type": "code",
   "execution_count": null,
   "id": "c2f80d99",
   "metadata": {},
   "outputs": [],
   "source": [
    "tdc_nb = df.groupby('TDC_CHANNEL').size().reset_index(name='Count') # group.by() TDC channels and count their occurrences\n",
    "sort_tdc_nb = tdc_nb.sort_values(by='Count', ascending=False)\n",
    "top_noisy_channels = sort_tdc_nb.head(3)\n",
    "print(\"The top 3 Noisy Channels:\", top_noisy_channels[['TDC_CHANNEL', 'Count']])"
   ]
  },
  {
   "cell_type": "markdown",
   "id": "44f2f902",
   "metadata": {},
   "source": [
    "# 6. Count the number of non-empty orbits"
   ]
  },
  {
   "cell_type": "code",
   "execution_count": null,
   "id": "e8c022a6",
   "metadata": {},
   "outputs": [],
   "source": [
    "non_empty_orbits_count = df['ORBIT_CNT'].nunique()\n",
    "print('Non empty orbits are : ', non_empty_orbits_count)"
   ]
  },
  {
   "cell_type": "markdown",
   "id": "c519aa34",
   "metadata": {},
   "source": [
    "# 7. Count the number of unique orbits"
   ]
  },
  {
   "cell_type": "code",
   "execution_count": null,
   "id": "10020e8b",
   "metadata": {},
   "outputs": [],
   "source": [
    "tdc_new = df[df['TDC_CHANNEL'] == 139]\n",
    "unique_orbits_count = tdc_new['ORBIT_CNT'].nunique()\n",
    "print(\"The number of unique orbits where at least one measurement from TDC_CHANNEL=139= \", unique_orbits_count)"
   ]
  },
  {
   "cell_type": "markdown",
   "id": "7d9b2ba0",
   "metadata": {},
   "source": [
    "# 8. Create two Series that have the TDC channel as index and the number of counts for the corresponding TDC channel as values"
   ]
  },
  {
   "cell_type": "code",
   "execution_count": null,
   "id": "5835c8dd",
   "metadata": {},
   "outputs": [],
   "source": [
    "fpga0 = df[df['FPGA'] == 0]\n",
    "fpga1 = df[df['FPGA'] == 1]\n",
    "\n",
    "fpga_0_series = fpga0['TDC_CHANNEL'].value_counts().sort_index()\n",
    "fpga_1_series = fpga1['TDC_CHANNEL'].value_counts().sort_index()\n",
    "print(\"FPGA 0 TDC Counts:\", fpga_0_series)\n",
    "print(\"FPGA 1 TDC Counts:\", fpga_1_series)"
   ]
  },
  {
   "cell_type": "code",
   "execution_count": null,
   "id": "5e6b95b5",
   "metadata": {},
   "outputs": [],
   "source": []
  }
 ],
 "metadata": {
  "kernelspec": {
   "display_name": "Python 3 (ipykernel)",
   "language": "python",
   "name": "python3"
  },
  "language_info": {
   "codemirror_mode": {
    "name": "ipython",
    "version": 3
   },
   "file_extension": ".py",
   "mimetype": "text/x-python",
   "name": "python",
   "nbconvert_exporter": "python",
   "pygments_lexer": "ipython3",
   "version": "3.8.0"
  }
 },
 "nbformat": 4,
 "nbformat_minor": 5
}
