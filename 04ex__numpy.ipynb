{
 "cells": [
  {
   "cell_type": "markdown",
   "id": "52d1ff3a",
   "metadata": {},
   "source": [
    "# 04_Numpy "
   ]
  },
  {
   "cell_type": "markdown",
   "id": "901ead52",
   "metadata": {},
   "source": [
    "# Reductions"
   ]
  },
  {
   "cell_type": "code",
   "execution_count": null,
   "id": "372db3cc",
   "metadata": {},
   "outputs": [],
   "source": [
    "import numpy as np\n",
    "m = np.arange(12).reshape((3,4))\n",
    "print(m)\n",
    "print(\"1-find the total mean of matrix m:\")\n",
    "sum=0\n",
    "for i in range(3):\n",
    "    for j in range (4):\n",
    "        sum+=m[i,j]\n",
    "print(\"The total mean of m is = \",sum/12)\n",
    "\n",
    "print(\"2-find the mean for each row and column:\")\n",
    "row_means = np.mean(m, axis=1) # this instruction returns a list of float values each one of them is the mean of the corresponding row\n",
    "print(\"Mean for each row:\", row_means)\n",
    "column_means = np.mean(m, axis=0) # this instruction returns a list of float values each one of them is the mean of the corresponding column\n",
    "print(\"Mean for each column:\", column_means)"
   ]
  },
  {
   "cell_type": "markdown",
   "id": "fed9b738",
   "metadata": {},
   "source": [
    "# Outer product"
   ]
  },
  {
   "cell_type": "code",
   "execution_count": null,
   "id": "fb231615",
   "metadata": {},
   "outputs": [],
   "source": [
    "u = np.array([1, 3, 5, 7])\n",
    "v = np.array([2, 4, 6, 8])\n",
    "print(\"1-using numpy:\")\n",
    "outer_uv = np.outer(u, v)\n",
    "print(\"Outer product using np.outer:\", outer_uv)\n",
    "print(\"2-using a nested for loop or list comprehension:\")\n",
    "outer_with_list_comprehension = np.array([i * v for i in u])\n",
    "print(\"Outer product using list comprehension:\", outer_with_list_comprehension)\n",
    "print(\"3-using NumPy Broadcasting Operations:\")\n",
    "outer_broad = u[:, np.newaxis] * v\n",
    "print(\"Outer product using NumPy broadcasting:\", outer_broad)"
   ]
  },
  {
   "cell_type": "markdown",
   "id": "2677a90c",
   "metadata": {},
   "source": [
    "# Matrix masking "
   ]
  },
  {
   "cell_type": "code",
   "execution_count": null,
   "id": "7e9ac41b",
   "metadata": {},
   "outputs": [],
   "source": [
    "mat = np.random.uniform(0, 3, size=(10, 6)) # I used the np.random.uniform function for random float values between 0 and 3\n",
    "print(\"Matrix = \",mat)\n",
    "mask = mat < 0.3 # here I created a boolean variable mask for values that are <0.3\n",
    "mat[mask]=0 # in this instruction I set all values that are less than 0.3 to 0.\n",
    "print(\"new mat = \", mat)"
   ]
  },
  {
   "cell_type": "markdown",
   "id": "9b84ffcd",
   "metadata": {},
   "source": [
    "# Trigonometric functions"
   ]
  },
  {
   "cell_type": "code",
   "execution_count": null,
   "id": "899ce136",
   "metadata": {},
   "outputs": [],
   "source": [
    "liste = np.linspace(0, 2*np.pi, 100)\n",
    "print(\"liste = \", liste)\n",
    "tenth_element_liste = liste[::10]\n",
    "print(\"10th element extraction = \", tenth_element_liste)\n",
    "reversed_liste= liste[::-1]\n",
    "print(\"reversed list\", reversed_liste)\n",
    "mask_4 = np.abs(np.sin(liste) - np.cos(liste)) < 0.1\n",
    "new_liste = liste[mask_4]\n",
    "print(\"new list = \", new_liste)\n",
    "# Plot the sin and cos functions\n",
    "import matplotlib.pyplot as plt\n",
    "plt.plot(liste, np.sin(liste), label='sin(x)')\n",
    "plt.plot(liste, np.cos(liste), label='cos(x)')\n",
    "# Mark the points where sin and cos are close\n",
    "# sins = np.sin(liste)\n",
    "# plt.scatter(new_liste,sins[mask], color='red', label='Close Points')"
   ]
  },
  {
   "cell_type": "markdown",
   "id": "4ef94499",
   "metadata": {},
   "source": [
    "# Matrices"
   ]
  },
  {
   "cell_type": "code",
   "execution_count": null,
   "id": "aafa2aca",
   "metadata": {},
   "outputs": [],
   "source": [
    "vector = np.arange(1, 11)\n",
    "# Creating a 10x10 multiplication table\n",
    "multiplication_table = np.outer(vector, vector)\n",
    "print(\"multiplication_table=\",multiplication_table)\n",
    "diagonal = multiplication_table[np.arange(10), np.arange(9, -1, -1)]\n",
    "print(\"Diagonal=\", diagonal)\n",
    "offset = multiplication_table[np.arange(9), np.arange(1, 10)]\n",
    "print(\"Offset = \", offset)"
   ]
  },
  {
   "cell_type": "markdown",
   "id": "d50de214",
   "metadata": {},
   "source": [
    "# Broadcasting"
   ]
  },
  {
   "cell_type": "code",
   "execution_count": null,
   "id": "dfd449c1",
   "metadata": {},
   "outputs": [],
   "source": [
    "miles_l = np.array([0, 198, 303, 736, 871, 1175, 1475, 1544, 1913, 2448])\n",
    "miles_distance = np.abs(miles_l - miles_l[:, np.newaxis])\n",
    "miles_to_km = 1.60934 # Defining the conversion factor from miles to kilometers\n",
    "distances_km = miles_distance * miles_to_km\n",
    "print(\"Distances in kilometre = \",distances_km)"
   ]
  },
  {
   "cell_type": "markdown",
   "id": "681f2227",
   "metadata": {},
   "source": [
    "# Prime numbers sieve"
   ]
  },
  {
   "cell_type": "code",
   "execution_count": null,
   "id": "528e18d3",
   "metadata": {},
   "outputs": [],
   "source": [
    "import timeit\n",
    "N=99\n",
    "is_prime = np.ones(N, dtype=bool)\n",
    "is_prime[0:2] = False  # 0 and 1 are not prime\n",
    "\n",
    "for i in range(2, int(np.sqrt(N)) + 1):\n",
    "    if is_prime[i]:\n",
    "        is_prime[i*i:N:i] = False\n",
    "print(np.nonzero(is_prime)[0])\n",
    "# Measure the time taken by the sieve_of_eratosthenes function\n",
    "time_taken = timeit.timeit(lambda: np.nonzero(is_prime)[0], number=1000)\n",
    "print(\"Prime numbers up to\", N, \":\", np.nonzero(is_prime)[0])\n",
    "print(\"Time taken for 1000 iterations:\", time_taken, \"seconds.\")"
   ]
  },
  {
   "cell_type": "markdown",
   "id": "a372a299",
   "metadata": {},
   "source": [
    "# Diffusion using random walk"
   ]
  },
  {
   "cell_type": "code",
   "execution_count": null,
   "id": "2d9695a2",
   "metadata": {},
   "outputs": [],
   "source": [
    "num_walkers = 1000\n",
    "num_steps = 200\n",
    "# Generate a 2D array of random steps (-1 or 1)\n",
    "random_steps = np.random.choice([-1, 1], size=(num_walkers, num_steps))\n",
    "distances = np.cumsum(random_steps, axis=1) # Calculating the walking distances for each walker\n",
    "squared_distances = distances**2\n",
    "mean_squared_distances = np.mean(squared_distances, axis=0)\n",
    "print(\"The mean squared distances at each step:\", mean_squared_distances)\n"
   ]
  },
  {
   "cell_type": "code",
   "execution_count": null,
   "id": "78c9e386",
   "metadata": {},
   "outputs": [],
   "source": []
  }
 ],
 "metadata": {
  "kernelspec": {
   "display_name": "Python 3 (ipykernel)",
   "language": "python",
   "name": "python3"
  },
  "language_info": {
   "codemirror_mode": {
    "name": "ipython",
    "version": 3
   },
   "file_extension": ".py",
   "mimetype": "text/x-python",
   "name": "python",
   "nbconvert_exporter": "python",
   "pygments_lexer": "ipython3",
   "version": "3.8.0"
  }
 },
 "nbformat": 4,
 "nbformat_minor": 5
}
