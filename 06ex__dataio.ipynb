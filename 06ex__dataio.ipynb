{
 "cells": [
  {
   "cell_type": "markdown",
   "id": "35e0dd10",
   "metadata": {},
   "source": [
    "# 05_pandas"
   ]
  },
  {
   "cell_type": "markdown",
   "id": "cd59f434",
   "metadata": {},
   "source": [
    "# 1. Text files"
   ]
  },
  {
   "cell_type": "code",
   "execution_count": null,
   "id": "63896cc5",
   "metadata": {},
   "outputs": [],
   "source": [
    "from os import system\n",
    "import numpy as np\n",
    "import csv\n",
    "import pandas as pd\n",
    "import sqlite3 as sql\n",
    "\n",
    "list = [i for i in range(100)]\n",
    "with open(r'C:\\Users\\LENOVO\\PycharmProjects\\computervisionLAB\\data_int.txt', 'w') as fp:\n",
    "    for i in list:\n",
    "        fp.write(\"%s\\n\" % i)\n",
    "    print('Done')\n",
    "#system(\"cat data_int.txt\")\n",
    "matrix = np.random.random((5, 5))\n",
    "np.savetxt('data_float.txt', matrix, fmt='%f')\n",
    "#system(\"cat data_float.txt\")\n",
    "\n",
    "with open('data_float.txt', 'r') as in_file:\n",
    "    stripped = (line.strip() for line in in_file)\n",
    "    lines = (line.split(\",\") for line in stripped if line)\n",
    "    with open('data_float.csv', 'w') as out_file:\n",
    "        writer = csv.writer(out_file)\n",
    "        writer.writerow(('title', 'intro'))\n",
    "        writer.writerows(lines)"
   ]
  },
  {
   "cell_type": "markdown",
   "id": "cd627dc2",
   "metadata": {},
   "source": [
    "# 2. JSON files"
   ]
  },
  {
   "cell_type": "code",
   "execution_count": null,
   "id": "ab3b557c",
   "metadata": {},
   "outputs": [],
   "source": [
    "FilePath = 'user_data.json'\n",
    "df = pd.read_json(FilePath)\n",
    "new_df = df[df['CreditCardType'] == 'American Express']\n",
    "new_df.to_csv(\"data.csv\")"
   ]
  },
  {
   "cell_type": "markdown",
   "id": "1735d023",
   "metadata": {},
   "source": [
    "# 3. CSV files with Pandas"
   ]
  },
  {
   "cell_type": "code",
   "execution_count": null,
   "id": "1e0d5c32",
   "metadata": {},
   "outputs": [],
   "source": [
    "df = pd.read_csv('mushrooms_categorized.csv')\n",
    "print(df.head())\n",
    "print(df.tail())\n",
    "print(df.info())\n",
    "print(df.describe())\n",
    "average_values = df.groupby('class').mean()\n",
    "print(\"Average values of each feature, separately for each class = \", average_values)\n",
    "average_values.to_json('mushrooms_categorized.json')"
   ]
  },
  {
   "cell_type": "markdown",
   "id": "be2c5924",
   "metadata": {},
   "source": [
    "# 4. Reading a database"
   ]
  },
  {
   "cell_type": "code",
   "execution_count": null,
   "id": "77816453",
   "metadata": {},
   "outputs": [],
   "source": [
    "# Since I am using Pycharm, I downloaded the database using jupyter notebook then I added it to this directory so I can use it\n",
    "conn = sql.connect('sakila.db')\n",
    "cur = conn.cursor()\n",
    "query = \"SELECT * FROM actor;\" # Selecting all attributes (*) from the table actors.\n",
    "df4 = pd.read_sql_query(query, conn) # loading the result to a dataframe.\n",
    "conn.close() #close the database connection\n",
    "a_actors = df4[df4['first_name'].str.startswith('A')] # returns a dataframe from df4 that cntains only the actors that their names starts with a.\n",
    "nb_a_actors = len(a_actors)\n",
    "print(\"The number of actors with that their first name starts with a:\", nb_a_actors)"
   ]
  },
  {
   "cell_type": "markdown",
   "id": "4faea1aa",
   "metadata": {},
   "source": [
    "# 5. Reading the credit card numbers"
   ]
  },
  {
   "cell_type": "code",
   "execution_count": null,
   "id": "ce347375",
   "metadata": {},
   "outputs": [],
   "source": [
    "file = 'credit_card.dat'\n",
    "with open(file, 'rb') as file:\n",
    "    data = file.read().decode('utf-8')\n",
    "lines = data.splitlines()\n",
    "print(lines)\n",
    "credit_card = []\n",
    "for line in lines:\n",
    "    l = line[:-4] # Remove the last 4 bits (padding) and split the line into blocks\n",
    "    blocks = [l[i:i+6] for i in range(0, len(l), 6)]\n",
    "    card_number = ''.join([chr(int(block, 2)) for block in blocks])\n",
    "    credit_card.append(card_number)"
   ]
  },
  {
   "cell_type": "markdown",
   "id": "63874b45",
   "metadata": {},
   "source": [
    "# 6. Write data to a binary file"
   ]
  },
  {
   "cell_type": "code",
   "execution_count": null,
   "id": "728b7ec5",
   "metadata": {},
   "outputs": [],
   "source": [
    "!wget https://www.dropbox.com/s/xvjzaxzz3ysphme/data_000637.txt -P ./data/"
   ]
  },
  {
   "cell_type": "code",
   "execution_count": null,
   "id": "ce07ccbc",
   "metadata": {},
   "outputs": [],
   "source": [
    "import struct\n",
    "file= 'data_000637.txt'\n",
    "data1=[]\n",
    "df = pd.read_csv(file, sep=\",\", nrows=10) #Reading the first 10 lines using Pandas\n",
    "print(df)\n",
    "with open(file, 'wb') as binary_file:\n",
    "    for _, row in df.iterrows(): #iterating the dataframe using iterrows predefined function.\n",
    "        pack_val = struct.pack('<q',int(row['HEAD']) << 48 | int(row['FPGA']) << 32 | int(row['TDC_CHANNEL']) << 16 | int(row['ORBIT_CNT']))\n",
    "        binary_file.write(pack_val)\n",
    "        unpacked_values = struct.unpack('<q', pack_val)\n",
    "        data1.append(unpacked_values[0])\n",
    "\n",
    "print(\"done!\")\n",
    "df_txt = pd.read_csv(file,sep=\",\")\n",
    "\n",
    "if list(df_txt['HEAD']) ==data1:\n",
    "    print(\"the data consistency is verified!\")\n",
    "else:\n",
    "    print(\"error!\")\n",
    "import os\n",
    "\n",
    "text_size = os.path.getsize(file)\n",
    "binary_size = os.path.getsize(file)\n",
    "print(f\"Size on disk for text file: \", text_size)\n",
    "print(f\"Size on disk for binary file: \", binary_size)"
   ]
  },
  {
   "cell_type": "code",
   "execution_count": null,
   "id": "8c1acc53",
   "metadata": {},
   "outputs": [],
   "source": []
  }
 ],
 "metadata": {
  "kernelspec": {
   "display_name": "Python 3 (ipykernel)",
   "language": "python",
   "name": "python3"
  },
  "language_info": {
   "codemirror_mode": {
    "name": "ipython",
    "version": 3
   },
   "file_extension": ".py",
   "mimetype": "text/x-python",
   "name": "python",
   "nbconvert_exporter": "python",
   "pygments_lexer": "ipython3",
   "version": "3.8.0"
  }
 },
 "nbformat": 4,
 "nbformat_minor": 5
}
